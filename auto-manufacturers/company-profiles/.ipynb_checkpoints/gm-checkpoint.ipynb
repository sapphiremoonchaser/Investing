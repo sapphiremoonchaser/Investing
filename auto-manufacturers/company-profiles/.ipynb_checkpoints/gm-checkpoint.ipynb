{
 "cells": [
  {
   "cell_type": "markdown",
   "id": "a01c4fd0-0d78-4083-943b-c9a0f16c484a",
   "metadata": {},
   "source": [
    "# F - Ford Motor Company"
   ]
  },
  {
   "cell_type": "code",
   "execution_count": 1,
   "id": "982d5b2e-29cb-42df-b153-c24987c16a22",
   "metadata": {},
   "outputs": [],
   "source": [
    "import yfinance as yf"
   ]
  },
  {
   "cell_type": "code",
   "execution_count": 15,
   "id": "5b4fad85-b1e2-4bdc-a8b7-dade8fd48cc5",
   "metadata": {},
   "outputs": [],
   "source": [
    "ticker = 'F'\n",
    "stock = yf.Ticker(ticker)\n",
    "yearly_balance_sheet = stock.balance_sheet\n",
    "quarterly_balance_sheet = stock.quarterly_balance_sheet\n",
    "yearly_cash_flow = stock.cash_flow\n",
    "quarterly_cash_flow = stock.quarterly_cash_flow\n",
    "quarterly_income_statement = stock.quarterly_income_stmt\n",
    "price = stock.info['currentPrice']\n",
    "volume = stock.info['volume']"
   ]
  },
  {
   "cell_type": "code",
   "execution_count": 18,
   "id": "bd877487-fa87-430b-b1fd-ecd6ed3e5a88",
   "metadata": {},
   "outputs": [
    {
     "name": "stdout",
     "output_type": "stream",
     "text": [
      "Name: Ford Motor Company\n",
      "Sector: Consumer Cyclical\n",
      "Industry: Auto Manufacturers\n",
      "\n",
      "Price: $10.16\n",
      "Volume: 51,264,227\n",
      "\n",
      "Next Earnings: 2025-02-05\n"
     ]
    }
   ],
   "source": [
    "print(f\"Name: {stock.info['shortName']}\")\n",
    "print(f\"Sector: {stock.info['sector']}\")\n",
    "print(f\"Industry: {stock.info['industry']}\")\n",
    "print(\"\")\n",
    "print(f\"Price: ${price}\")\n",
    "print(f\"Volume: {'{:,}'.format(volume)}\")\n",
    "print(\"\")\n",
    "print(f\"Next Earnings: {stock.calendar['Earnings Date'][0]}\")"
   ]
  },
  {
   "cell_type": "markdown",
   "id": "6d876079-8c01-4217-a45c-1de5a221cdbf",
   "metadata": {},
   "source": [
    "### About the Company"
   ]
  },
  {
   "cell_type": "code",
   "execution_count": 19,
   "id": "0b805b96-98d8-4dbc-bdc1-8d32f80bb3d0",
   "metadata": {},
   "outputs": [
    {
     "data": {
      "text/plain": [
       "'Ford Motor Company develops, delivers, and services a range of Ford trucks, commercial cars and vans, sport utility vehicles, and Lincoln luxury vehicles worldwide. It operates through Ford Blue, Ford Model e, and Ford Pro; Ford Next; and Ford Credit segments. The company sells Ford and Lincoln vehicles, service parts, and accessories through distributors and dealers, as well as through dealerships to commercial fleet customers, daily rental car companies, and governments. It also engages in vehicle-related financing and leasing activities to and through automotive dealers. In addition, the company provides retail installment sale contracts for new and used vehicles; and direct financing leases for new vehicles to retail and commercial customers, such as leasing companies, government entities, daily rental companies, and fleet customers. Further, it offers wholesale loans to dealers to finance the purchase of vehicle inventory; and loans to dealers to finance working capital and enhance dealership facilities, purchase dealership real estate, and other dealer vehicle programs. The company was incorporated in 1903 and is based in Dearborn, Michigan.'"
      ]
     },
     "execution_count": 19,
     "metadata": {},
     "output_type": "execute_result"
    }
   ],
   "source": [
    "stock.info['longBusinessSummary']"
   ]
  },
  {
   "cell_type": "markdown",
   "id": "8229cb5f-6edc-46cd-957a-10c86d09c75f",
   "metadata": {},
   "source": [
    "##### CEO"
   ]
  },
  {
   "cell_type": "code",
   "execution_count": 23,
   "id": "6b2aad41-358b-4d0f-ba84-918beb78d928",
   "metadata": {},
   "outputs": [
    {
     "data": {
      "text/plain": [
       "'Mr. James Duncan Farley Jr.'"
      ]
     },
     "execution_count": 23,
     "metadata": {},
     "output_type": "execute_result"
    }
   ],
   "source": [
    "stock.info['companyOfficers'][1][\"name\"]"
   ]
  },
  {
   "cell_type": "markdown",
   "id": "e9b8a7c0-b78a-443b-84fa-161367b62a7f",
   "metadata": {},
   "source": [
    "##### Full-Time Employees"
   ]
  },
  {
   "cell_type": "code",
   "execution_count": 25,
   "id": "f37a1493-aab5-4d72-8a74-9551ea7ffeb2",
   "metadata": {},
   "outputs": [
    {
     "data": {
      "text/plain": [
       "'177,000'"
      ]
     },
     "execution_count": 25,
     "metadata": {},
     "output_type": "execute_result"
    }
   ],
   "source": [
    "\"{:,}\".format(stock.info['fullTimeEmployees'])"
   ]
  },
  {
   "cell_type": "markdown",
   "id": "00f0bf54-eea9-44e3-9f11-2639391b5a4a",
   "metadata": {},
   "source": [
    "##### Company Culture\n",
    "\n",
    "Rec to a Friend: 79%  \n",
    "CEO Approval: 77%"
   ]
  },
  {
   "cell_type": "markdown",
   "id": "2049b058-f66b-442e-a2e7-40a4d9bb790e",
   "metadata": {},
   "source": [
    "### Insider Activity"
   ]
  },
  {
   "cell_type": "markdown",
   "id": "371d18bc-9851-448c-977d-e364f1884004",
   "metadata": {},
   "source": [
    "##### Percent Owned by Insiders"
   ]
  },
  {
   "cell_type": "code",
   "execution_count": 29,
   "id": "8e674458-52b5-41c9-bb81-fac972aaf760",
   "metadata": {},
   "outputs": [
    {
     "data": {
      "text/plain": [
       "'0.29%'"
      ]
     },
     "execution_count": 29,
     "metadata": {},
     "output_type": "execute_result"
    }
   ],
   "source": [
    "\"{:.2f}%\".format(stock.info.get('heldPercentInsiders') * 100)"
   ]
  },
  {
   "cell_type": "markdown",
   "id": "40e889d8-210e-41a6-9c95-bce4fc24ff71",
   "metadata": {},
   "source": [
    "This is a low percentage, but this is also an old company, so that is okay here."
   ]
  },
  {
   "cell_type": "markdown",
   "id": "40b5469d-1244-4a01-b5a5-9b90b2ec5fe9",
   "metadata": {},
   "source": [
    "##### Last 6 Months Transactions"
   ]
  },
  {
   "cell_type": "markdown",
   "id": "c082feff-8fb9-4a0d-ab95-9974ecc13eb8",
   "metadata": {},
   "source": [
    "There have been no insider transactions in the last 6 months."
   ]
  },
  {
   "cell_type": "markdown",
   "id": "c7a77ca5-dff6-4f27-87b4-58f91448a52d",
   "metadata": {},
   "source": [
    "### Market Cap and Enterprise Value"
   ]
  },
  {
   "cell_type": "code",
   "execution_count": 40,
   "id": "00313446-ac7b-46dc-aff6-25b231ae277b",
   "metadata": {},
   "outputs": [
    {
     "name": "stdout",
     "output_type": "stream",
     "text": [
      "Market Cap: $40.38B\n"
     ]
    }
   ],
   "source": [
    "market_cap = stock.info['marketCap']\n",
    "print(f\"Market Cap: ${'{:.2f}'.format(market_cap / 1000000000)}B\")"
   ]
  },
  {
   "cell_type": "markdown",
   "id": "4f55d4f8-49b9-4e33-a21a-8ca293ade011",
   "metadata": {},
   "source": [
    "This is a Large Cap stock."
   ]
  },
  {
   "cell_type": "code",
   "execution_count": 42,
   "id": "c5931356-a1cb-419d-8c39-0bbc6fb9ff32",
   "metadata": {},
   "outputs": [
    {
     "name": "stdout",
     "output_type": "stream",
     "text": [
      "Enterprise Value: $171.52B\n"
     ]
    }
   ],
   "source": [
    "ev = stock.info['enterpriseValue']\n",
    "print(f\"Enterprise Value: ${'{:.2f}'.format(ev / 1000000000)}B\")"
   ]
  },
  {
   "cell_type": "markdown",
   "id": "7636a372-6569-40bc-89c1-322b7ec32993",
   "metadata": {},
   "source": [
    "**<span style=\"color:red\">EV > MC</span>**  \n",
    "\n",
    "This indicates there is more debt than cash. Where did the debt come from? Is it something that would lead to future growth?"
   ]
  },
  {
   "cell_type": "code",
   "execution_count": null,
   "id": "23bbad00-6518-4f91-a529-0977963909d4",
   "metadata": {},
   "outputs": [],
   "source": []
  }
 ],
 "metadata": {
  "kernelspec": {
   "display_name": ".venv-investing",
   "language": "python",
   "name": ".venv-investing"
  },
  "language_info": {
   "codemirror_mode": {
    "name": "ipython",
    "version": 3
   },
   "file_extension": ".py",
   "mimetype": "text/x-python",
   "name": "python",
   "nbconvert_exporter": "python",
   "pygments_lexer": "ipython3",
   "version": "3.10.2"
  }
 },
 "nbformat": 4,
 "nbformat_minor": 5
}
