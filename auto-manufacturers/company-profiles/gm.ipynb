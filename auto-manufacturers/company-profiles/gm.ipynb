{
 "cells": [
  {
   "cell_type": "markdown",
   "id": "a01c4fd0-0d78-4083-943b-c9a0f16c484a",
   "metadata": {},
   "source": [
    "# GM - General Motors Company"
   ]
  },
  {
   "cell_type": "code",
   "execution_count": 1,
   "id": "982d5b2e-29cb-42df-b153-c24987c16a22",
   "metadata": {},
   "outputs": [],
   "source": [
    "import yfinance as yf\n",
    "import datetime\n",
    "import pandas as pd\n",
    "import matplotlib.pyplot as plt"
   ]
  },
  {
   "cell_type": "code",
   "execution_count": 2,
   "id": "5b4fad85-b1e2-4bdc-a8b7-dade8fd48cc5",
   "metadata": {},
   "outputs": [],
   "source": [
    "ticker = 'GM'\n",
    "stock = yf.Ticker(ticker)\n",
    "yearly_balance_sheet = stock.balance_sheet\n",
    "quarterly_balance_sheet = stock.quarterly_balance_sheet\n",
    "yearly_cash_flow = stock.cash_flow\n",
    "quarterly_cash_flow = stock.quarterly_cash_flow\n",
    "yearly_income_statement = stock.income_stmt\n",
    "quarterly_income_statement = stock.quarterly_income_stmt\n",
    "price = stock.info['currentPrice']\n",
    "volume = stock.info['volume']"
   ]
  },
  {
   "cell_type": "code",
   "execution_count": 3,
   "id": "bd877487-fa87-430b-b1fd-ecd6ed3e5a88",
   "metadata": {},
   "outputs": [
    {
     "name": "stdout",
     "output_type": "stream",
     "text": [
      "Name: General Motors Company\n",
      "Sector: Consumer Cyclical\n",
      "Industry: Auto Manufacturers\n",
      "\n",
      "Price: $54.22\n",
      "Volume: 6,129,189\n",
      "\n",
      "Next Earnings: 2025-01-28\n"
     ]
    }
   ],
   "source": [
    "print(f\"Name: {stock.info['shortName']}\")\n",
    "print(f\"Sector: {stock.info['sector']}\")\n",
    "print(f\"Industry: {stock.info['industry']}\")\n",
    "print(\"\")\n",
    "print(f\"Price: ${price}\")\n",
    "print(f\"Volume: {'{:,}'.format(volume)}\")\n",
    "print(\"\")\n",
    "print(f\"Next Earnings: {stock.calendar['Earnings Date'][0]}\")"
   ]
  },
  {
   "cell_type": "markdown",
   "id": "6d876079-8c01-4217-a45c-1de5a221cdbf",
   "metadata": {},
   "source": [
    "### About the Company"
   ]
  },
  {
   "cell_type": "code",
   "execution_count": 4,
   "id": "0b805b96-98d8-4dbc-bdc1-8d32f80bb3d0",
   "metadata": {},
   "outputs": [
    {
     "data": {
      "text/plain": [
       "'General Motors Company designs, builds, and sells trucks, crossovers, cars, and automobile parts; and provide software-enabled services and subscriptions worldwide. The company operates through GM North America, GM International, Cruise, and GM Financial segments. It markets its vehicles primarily under the Buick, Cadillac, Chevrolet, GMC, Baojun, and Wuling brand names. In addition, the company sells trucks, crossovers, cars, and automobile parts through retail dealers, and distributors and dealers, as well as to fleet customers, including daily rental car companies, commercial fleet customers, leasing companies, and governments. Further, it offers range of after-sale services through dealer network, such as maintenance, light repairs, collision repairs, vehicle accessories, and extended service warranties. Additionally, the company provides automotive financing; and software-enabled services and subscriptions. General Motors Company was founded in 1908 and is headquartered in Detroit, Michigan.'"
      ]
     },
     "execution_count": 4,
     "metadata": {},
     "output_type": "execute_result"
    }
   ],
   "source": [
    "stock.info['longBusinessSummary']"
   ]
  },
  {
   "cell_type": "markdown",
   "id": "e5ac709d-4d91-4482-9cb1-4aa01ac069c0",
   "metadata": {},
   "source": [
    "##### Company Age"
   ]
  },
  {
   "cell_type": "code",
   "execution_count": 5,
   "id": "1f55e27c-cfe9-4811-99f3-033355bb811f",
   "metadata": {},
   "outputs": [
    {
     "name": "stdout",
     "output_type": "stream",
     "text": [
      "117 Years\n"
     ]
    }
   ],
   "source": [
    "year_founded = 1908\n",
    "company_age = datetime.datetime.now().year - year_founded\n",
    "print(f\"{company_age} Years\")"
   ]
  },
  {
   "cell_type": "markdown",
   "id": "8229cb5f-6edc-46cd-957a-10c86d09c75f",
   "metadata": {},
   "source": [
    "##### CEO"
   ]
  },
  {
   "cell_type": "code",
   "execution_count": 6,
   "id": "6b2aad41-358b-4d0f-ba84-918beb78d928",
   "metadata": {},
   "outputs": [
    {
     "data": {
      "text/plain": [
       "'Ms. Mary T. Barra'"
      ]
     },
     "execution_count": 6,
     "metadata": {},
     "output_type": "execute_result"
    }
   ],
   "source": [
    "stock.info['companyOfficers'][0][\"name\"]"
   ]
  },
  {
   "cell_type": "markdown",
   "id": "e9b8a7c0-b78a-443b-84fa-161367b62a7f",
   "metadata": {},
   "source": [
    "##### Full-Time Employees"
   ]
  },
  {
   "cell_type": "code",
   "execution_count": 7,
   "id": "f37a1493-aab5-4d72-8a74-9551ea7ffeb2",
   "metadata": {},
   "outputs": [
    {
     "data": {
      "text/plain": [
       "'163,000'"
      ]
     },
     "execution_count": 7,
     "metadata": {},
     "output_type": "execute_result"
    }
   ],
   "source": [
    "\"{:,}\".format(stock.info['fullTimeEmployees'])"
   ]
  },
  {
   "cell_type": "markdown",
   "id": "00f0bf54-eea9-44e3-9f11-2639391b5a4a",
   "metadata": {},
   "source": [
    "##### Company Culture\n",
    "\n",
    "Rec to a Friend: 64%  \n",
    "CEO Approval: 58%"
   ]
  },
  {
   "cell_type": "markdown",
   "id": "2049b058-f66b-442e-a2e7-40a4d9bb790e",
   "metadata": {},
   "source": [
    "### Insider Activity"
   ]
  },
  {
   "cell_type": "markdown",
   "id": "371d18bc-9851-448c-977d-e364f1884004",
   "metadata": {},
   "source": [
    "##### Percent Owned by Insiders"
   ]
  },
  {
   "cell_type": "code",
   "execution_count": 8,
   "id": "8e674458-52b5-41c9-bb81-fac972aaf760",
   "metadata": {},
   "outputs": [
    {
     "data": {
      "text/plain": [
       "'0.22%'"
      ]
     },
     "execution_count": 8,
     "metadata": {},
     "output_type": "execute_result"
    }
   ],
   "source": [
    "\"{:.2f}%\".format(stock.info.get('heldPercentInsiders') * 100)"
   ]
  },
  {
   "cell_type": "markdown",
   "id": "40e889d8-210e-41a6-9c95-bce4fc24ff71",
   "metadata": {},
   "source": [
    "This is a low percentage, but this is also an old company, so that is okay here."
   ]
  },
  {
   "cell_type": "markdown",
   "id": "40b5469d-1244-4a01-b5a5-9b90b2ec5fe9",
   "metadata": {},
   "source": [
    "##### Last 6 Months Transactions"
   ]
  },
  {
   "cell_type": "code",
   "execution_count": 9,
   "id": "1b52eb9f-238d-4f53-89db-8df9047dff86",
   "metadata": {},
   "outputs": [
    {
     "name": "stdout",
     "output_type": "stream",
     "text": [
      "Share Purch/Sales: 0.74\n"
     ]
    }
   ],
   "source": [
    "last_6m_insiders = {\n",
    "    'Purchases': {'Shares': 929699, 'Transactions': 9},\n",
    "    'Sales': {'Shares': 1252396, 'Transactions':7}\n",
    "}\n",
    "\n",
    "share_purch_to_sales = last_6m_insiders['Purchases']['Shares'] / last_6m_insiders['Sales']['Shares']\n",
    "print(f\"Share Purch/Sales: {'{:.2f}'.format(share_purch_to_sales)}\")"
   ]
  },
  {
   "cell_type": "markdown",
   "id": "c7a77ca5-dff6-4f27-87b4-58f91448a52d",
   "metadata": {},
   "source": [
    "### Market Cap and Enterprise Value"
   ]
  },
  {
   "cell_type": "code",
   "execution_count": 10,
   "id": "00313446-ac7b-46dc-aff6-25b231ae277b",
   "metadata": {},
   "outputs": [
    {
     "name": "stdout",
     "output_type": "stream",
     "text": [
      "Market Cap: $59.62B\n"
     ]
    }
   ],
   "source": [
    "market_cap = stock.info['marketCap']\n",
    "print(f\"Market Cap: ${'{:.2f}'.format(market_cap / 1000000000)}B\")"
   ]
  },
  {
   "cell_type": "markdown",
   "id": "4f55d4f8-49b9-4e33-a21a-8ca293ade011",
   "metadata": {},
   "source": [
    "This is a Large Cap stock."
   ]
  },
  {
   "cell_type": "code",
   "execution_count": 11,
   "id": "c5931356-a1cb-419d-8c39-0bbc6fb9ff32",
   "metadata": {},
   "outputs": [
    {
     "name": "stdout",
     "output_type": "stream",
     "text": [
      "Enterprise Value: $165.00B\n"
     ]
    }
   ],
   "source": [
    "ev = stock.info['enterpriseValue']\n",
    "print(f\"Enterprise Value: ${'{:.2f}'.format(ev / 1000000000)}B\")"
   ]
  },
  {
   "cell_type": "markdown",
   "id": "7636a372-6569-40bc-89c1-322b7ec32993",
   "metadata": {},
   "source": [
    "**<span style=\"color:red\">EV > MC</span>**  \n",
    "\n",
    "This indicates there is more debt than cash. Where did the debt come from? Is it something that would lead to future growth?"
   ]
  },
  {
   "cell_type": "markdown",
   "id": "32f5f2ae-bc5d-4d20-afd4-c6f85136d305",
   "metadata": {},
   "source": [
    "### Financial Indicators"
   ]
  },
  {
   "cell_type": "markdown",
   "id": "7a0edd1d-05e2-4b51-8729-ec7fa5d212b3",
   "metadata": {},
   "source": [
    "##### P/E "
   ]
  },
  {
   "cell_type": "code",
   "execution_count": 12,
   "id": "3764ae6e-89a0-47bd-a816-4f84a6a4a859",
   "metadata": {},
   "outputs": [
    {
     "name": "stdout",
     "output_type": "stream",
     "text": [
      "Trailing P/E: 9.37\n",
      "Forward P/E: 10.57\n"
     ]
    }
   ],
   "source": [
    "print(f\"Trailing P/E: {stock.info['trailingEps']}\")\n",
    "print(f\"Forward P/E: {stock.info['forwardEps']}\")"
   ]
  },
  {
   "cell_type": "markdown",
   "id": "7f03c873-d3fc-472c-9612-5a57d99dd0c6",
   "metadata": {},
   "source": [
    "##### Beta  \n",
    "\n",
    "<span style=\"color:red\">Risky</span>"
   ]
  },
  {
   "cell_type": "code",
   "execution_count": 13,
   "id": "84f5568b-274d-432b-8580-1ca9315ea01e",
   "metadata": {},
   "outputs": [
    {
     "data": {
      "text/plain": [
       "1.414"
      ]
     },
     "execution_count": 13,
     "metadata": {},
     "output_type": "execute_result"
    }
   ],
   "source": [
    "stock.info.get(\"beta\", None)"
   ]
  },
  {
   "cell_type": "markdown",
   "id": "2c0f9e78-f2c9-4430-8be4-80403852fc85",
   "metadata": {},
   "source": [
    "##### Book Value"
   ]
  },
  {
   "cell_type": "code",
   "execution_count": 14,
   "id": "e55c1db4-0ea3-4373-8afb-57ccc47eb8f1",
   "metadata": {},
   "outputs": [
    {
     "name": "stdout",
     "output_type": "stream",
     "text": [
      "Book Value: 178.619\n",
      "Market/Book: 0.33\n"
     ]
    }
   ],
   "source": [
    "# Find Total Current Assets\n",
    "total_assets = None\n",
    "possible_keys = [\n",
    "    'Total Current Assets',\n",
    "    'Total Assets'\n",
    "]\n",
    "for key in possible_keys:\n",
    "    if key in yearly_balance_sheet.index:\n",
    "        total_assets = yearly_balance_sheet.loc[key]\n",
    "        total_assets = total_assets.iloc[0] # most recent\n",
    "        break\n",
    "\n",
    "# Find Total Current Liabilities\n",
    "total_liabilities = None\n",
    "possible_keys = [\n",
    "    'Total Current Liabilities',\n",
    "    'Total Liabilities',\n",
    "    'Current Liabilities'\n",
    "]\n",
    "for key in possible_keys:\n",
    "    if key in yearly_balance_sheet.index:\n",
    "        total_liabilities = yearly_balance_sheet.loc[key]\n",
    "        total_liabilities = total_liabilities.iloc[0] # most recent\n",
    "        break\n",
    "\n",
    "book_value = total_assets - total_liabilities\n",
    "market_to_book = market_cap / book_value\n",
    "\n",
    "print(f\"Book Value: {book_value / 1000000000}\")\n",
    "print(f\"Market/Book: {'{:.2f}'.format(market_to_book)}\")"
   ]
  },
  {
   "cell_type": "markdown",
   "id": "eaf407cc-9f96-4867-bb68-e065c6e98e5e",
   "metadata": {},
   "source": [
    "##### D/E (Debt to Equity)"
   ]
  },
  {
   "cell_type": "code",
   "execution_count": 15,
   "id": "fa6b6886-a17c-4bfa-8f5d-10fe1dbe8755",
   "metadata": {},
   "outputs": [
    {
     "name": "stdout",
     "output_type": "stream",
     "text": [
      "3.02\n"
     ]
    }
   ],
   "source": [
    "# Total Shareholder Equity\n",
    "shareholder_equity = None\n",
    "possible_keys = [\n",
    "    'Total Shareholder Equity',\n",
    "    'Stockholders Equity'\n",
    "]\n",
    "\n",
    "for key in possible_keys:\n",
    "    if key in yearly_balance_sheet.index:\n",
    "        shareholder_equity = quarterly_balance_sheet.loc[key]\n",
    "        shareholder_equity = shareholder_equity.iloc[0]\n",
    "        break\n",
    "\n",
    "# Debt\n",
    "# short_term_debt\n",
    "short_term_debt = None\n",
    "possible_keys = [\n",
    "    'Total Current Liabilities',\n",
    "    'Total Liabilities',\n",
    "    'Current Liabilities'\n",
    "]\n",
    "for key in possible_keys:\n",
    "    if key in quarterly_balance_sheet.index:\n",
    "        short_term_debt = yearly_balance_sheet.loc[key]\n",
    "        short_term_debt = short_term_debt.iloc[0] # most recent\n",
    "        break\n",
    "\n",
    "# Long term debt\n",
    "long_term_debt = quarterly_balance_sheet.loc['Total Non Current Liabilities Net Minority Interest']\n",
    "long_term_debt = long_term_debt.iloc[0]\n",
    "\n",
    "# total debt\n",
    "debt = short_term_debt + long_term_debt\n",
    "\n",
    "# Debt to Equity\n",
    "if shareholder_equity:\n",
    "    print(f\"{'{:.2f}'.format(debt / shareholder_equity)}\")\n",
    "else:\n",
    "    print(f\"{'{:.2f}'.format(debt / book_value)}\")"
   ]
  },
  {
   "cell_type": "markdown",
   "id": "e6e96358-c5cd-4f98-b5e6-db23fbfa4b36",
   "metadata": {},
   "source": [
    "##### D/C (Debt to Capital)"
   ]
  },
  {
   "cell_type": "code",
   "execution_count": 16,
   "id": "9e851f2b-f980-4df8-a20f-9173d03e1703",
   "metadata": {},
   "outputs": [
    {
     "name": "stdout",
     "output_type": "stream",
     "text": [
      "0.75\n"
     ]
    }
   ],
   "source": [
    "# Debt to Capital\n",
    "if shareholder_equity:\n",
    "    print(f\"{'{:.2f}'.format(debt / (debt + shareholder_equity))}\")\n",
    "else:\n",
    "    print(f\"{'{:.2f}'.format(debt / (debt + book_value))}\")"
   ]
  },
  {
   "cell_type": "markdown",
   "id": "4e5cfbc0-ea5e-4484-b10d-bc404b6dfee4",
   "metadata": {},
   "source": [
    "##### ROE  \n",
    "\n",
    "Only $0.04 made for every dollar invested."
   ]
  },
  {
   "cell_type": "code",
   "execution_count": 17,
   "id": "caf54fcd-815c-4651-9698-6dad543c9991",
   "metadata": {},
   "outputs": [
    {
     "name": "stdout",
     "output_type": "stream",
     "text": [
      "4.31%\n"
     ]
    }
   ],
   "source": [
    "# Total Shareholder Equity\n",
    "shareholder_equity = None\n",
    "possible_keys = [\n",
    "    'Total Shareholder Equity',\n",
    "    'Stockholders Equity',\n",
    "    'Total Equity'\n",
    "]\n",
    "\n",
    "for key in possible_keys:\n",
    "    if key in yearly_balance_sheet.index:\n",
    "        shareholder_equity = quarterly_balance_sheet.loc[key]\n",
    "        shareholder_equity = shareholder_equity.iloc[0]\n",
    "        break\n",
    "\n",
    "# Net Income\n",
    "net_income = quarterly_income_statement.loc['Net Income'].iloc[0]\n",
    "\n",
    "# Return on Equity\n",
    "if shareholder_equity:\n",
    "    print(f\"{'{:.2f}'.format(net_income / shareholder_equity * 100)}%\")\n",
    "else:\n",
    "    print(f\"{'{:.2f}'.format(net_income / book_value * 100)}%\")"
   ]
  },
  {
   "cell_type": "markdown",
   "id": "325ed387-a74c-4bc4-91ac-384623333ffa",
   "metadata": {},
   "source": [
    "##### Current Ratio"
   ]
  },
  {
   "cell_type": "code",
   "execution_count": 18,
   "id": "5389447e-a503-48ae-bb98-817024083307",
   "metadata": {},
   "outputs": [
    {
     "data": {
      "text/plain": [
       "'2.89'"
      ]
     },
     "execution_count": 18,
     "metadata": {},
     "output_type": "execute_result"
    }
   ],
   "source": [
    "\"{:.2f}\".format(total_assets / total_liabilities)"
   ]
  },
  {
   "cell_type": "markdown",
   "id": "76e5ad80-644f-4e11-b3ee-76153aaad8c8",
   "metadata": {},
   "source": [
    "##### Inventory Turnover Ratio  \n",
    "\n",
    "Inventory was turned over about 9 times per year."
   ]
  },
  {
   "cell_type": "code",
   "execution_count": 19,
   "id": "014bc750-c0af-4523-924b-4ab7ccab353f",
   "metadata": {},
   "outputs": [
    {
     "data": {
      "text/plain": [
       "'9.28'"
      ]
     },
     "execution_count": 19,
     "metadata": {},
     "output_type": "execute_result"
    }
   ],
   "source": [
    "# Cost of Good Sold\n",
    "cogs = yearly_income_statement.loc['Cost Of Revenue']\n",
    "cogs = cogs.iloc[0]\n",
    "\n",
    "# Inventory\n",
    "inventory = yearly_balance_sheet.loc['Inventory']\n",
    "inventory = inventory.iloc[0]\n",
    "\n",
    "# Inventory Turnover Ratio\n",
    "\"{:.2f}\".format(cogs / inventory)"
   ]
  },
  {
   "cell_type": "markdown",
   "id": "a6bdf831-a703-45a7-a495-d7c9e3030c50",
   "metadata": {},
   "source": [
    "##### DSI (Days Sales of Inventory)  \n",
    "\n",
    "It takes about 40 days to sale through inventory."
   ]
  },
  {
   "cell_type": "code",
   "execution_count": 20,
   "id": "6c99376a-bc75-4323-b258-0ac14fbd3252",
   "metadata": {},
   "outputs": [
    {
     "data": {
      "text/plain": [
       "'39.35'"
      ]
     },
     "execution_count": 20,
     "metadata": {},
     "output_type": "execute_result"
    }
   ],
   "source": [
    "\"{:.2f}\".format(inventory / cogs * 365)"
   ]
  },
  {
   "cell_type": "markdown",
   "id": "ef481c3c-f3e0-463c-ae6d-da6389ea1b64",
   "metadata": {},
   "source": [
    "### Balance Sheet"
   ]
  },
  {
   "cell_type": "markdown",
   "id": "cb785812-1a71-4b05-8559-47aeef52dc26",
   "metadata": {},
   "source": [
    "##### Quarterly Cash and Long-Term Debt"
   ]
  },
  {
   "cell_type": "markdown",
   "id": "95a79dd3-06d9-4de8-8b5b-47de75147bbd",
   "metadata": {},
   "source": [
    "##### Cash and Cash Equivalents  \n",
    "\n",
    "Cash has been **<span style=\"color:red\">decreasing</span>** YoY. "
   ]
  },
  {
   "cell_type": "code",
   "execution_count": null,
   "id": "7c793a22-5881-4e11-bb16-2b167852ad03",
   "metadata": {},
   "outputs": [],
   "source": [
    "# Series for cash and equivs where index is dates and cash is shown in billions\n",
    "quarterly_cash_and_equivs = quarterly_balance_sheet.loc['Cash And Cash Equivalents'] / 1000000000\n",
    "yearly_cash_and_equivs = yearly_balance_sheet.loc['Cash And Cash Equivalents'] / 1000000000\n",
    "\n",
    "# Create the subplots (1 row, 2 columns)\n",
    "fig, axes = plt.subplots(1, 2, figsize=(15, 6))\n",
    "\n",
    "# Plot Yearly Cash on the first subplot\n",
    "axes[0].plot(\n",
    "    yearly_cash_and_equivs.index, \n",
    "    yearly_cash_and_equivs.values, \n",
    "    marker='o', \n",
    "    color='#3cb1fa', \n",
    "    linestyle='-', \n",
    "    label='Series 1'\n",
    ")\n",
    "axes[0].set_title('Yearly Cash')\n",
    "axes[0].set_xlabel('Date')\n",
    "axes[0].set_ylabel('$ (Billions)')\n",
    "axes[0].legend()\n",
    "axes[0].tick_params(axis='x', rotation=45)  # Rotate x-axis labels\n",
    "\n",
    "# Plot Quarterly Cash on the second subplot\n",
    "axes[1].plot(\n",
    "    quarterly_cash_and_equivs.index, \n",
    "    quarterly_cash_and_equivs.values, \n",
    "    marker='o', \n",
    "    color='#e43cfa', \n",
    "    linestyle='-', \n",
    "    label='Series 2'\n",
    ")\n",
    "axes[1].set_title('Quarterly Cash')\n",
    "axes[1].set_xlabel('Date')\n",
    "axes[1].set_ylabel('$ (Billions)')\n",
    "axes[1].legend()\n",
    "axes[1].tick_params(axis='x', rotation=45)  # Rotate x-axis labels\n",
    "\n",
    "# Adjust layout to avoid overlap\n",
    "plt.tight_layout()\n",
    "\n",
    "# Show the plot\n",
    "plt.show()"
   ]
  },
  {
   "cell_type": "markdown",
   "id": "1fdbb024-f462-4e7f-93ec-adbd026d2f56",
   "metadata": {},
   "source": [
    "##### Long-Term Debt  \n",
    "\n",
    "Long-term debt has been **increasing** YoY. Have there been big investments?"
   ]
  },
  {
   "cell_type": "code",
   "execution_count": null,
   "id": "8651b713-6d85-4f34-aaed-ff26c223bdf7",
   "metadata": {},
   "outputs": [],
   "source": [
    "# Series for long term debt where index is dates and debt is shown in Billions\n",
    "yearly_long_term_debt = yearly_balance_sheet.loc['Long Term Debt'] / 1000000000\n",
    "quarterly_long_term_debt = quarterly_balance_sheet.loc['Long Term Debt'] / 1000000000\n",
    "\n",
    "# Create the subplots (1 row, 2 columns)\n",
    "fig, axes = plt.subplots(1, 2, figsize=(15, 6))\n",
    "\n",
    "# Plot Yearly Debt on the first subplot\n",
    "axes[0].plot(\n",
    "    yearly_long_term_debt.index, \n",
    "    yearly_long_term_debt.values, \n",
    "    marker='o', \n",
    "    color='#3cb1fa', \n",
    "    linestyle='-', \n",
    "    label='Series 1'\n",
    ")\n",
    "axes[0].set_title('Yearly Debt')\n",
    "axes[0].set_xlabel('Date')\n",
    "axes[0].set_ylabel('$ (Billions)')\n",
    "axes[0].legend()\n",
    "axes[0].tick_params(axis='x', rotation=45)  # Rotate x-axis labels\n",
    "\n",
    "# Plot Quarterly Debt on the second subplot\n",
    "axes[1].plot(\n",
    "    quarterly_long_term_debt.index, \n",
    "    quarterly_long_term_debt.values, \n",
    "    marker='o', \n",
    "    color='#e43cfa', \n",
    "    linestyle='-', \n",
    "    label='Series 2'\n",
    ")\n",
    "axes[1].set_title('Quarterly Debt')\n",
    "axes[1].set_xlabel('Date')\n",
    "axes[1].set_ylabel('$ (Billions)')\n",
    "axes[1].legend()\n",
    "axes[1].tick_params(axis='x', rotation=45)  # Rotate x-axis labels\n",
    "\n",
    "# Adjust layout to avoid overlap\n",
    "plt.tight_layout()\n",
    "\n",
    "# Show the plot\n",
    "plt.show()"
   ]
  },
  {
   "cell_type": "markdown",
   "id": "9b1a571d-35a1-43a5-874f-d41f22195535",
   "metadata": {},
   "source": [
    "##### Total Shares Outstanding"
   ]
  },
  {
   "cell_type": "markdown",
   "id": "cb1f10d5-ad68-49ec-8933-1f6d5d9b7a6d",
   "metadata": {},
   "source": [
    "### Cash Flow"
   ]
  },
  {
   "cell_type": "code",
   "execution_count": null,
   "id": "f87510e8-616b-4e23-8864-c522706486f0",
   "metadata": {},
   "outputs": [],
   "source": [
    "# Net Cash Flow by year\n",
    "yearly_net_cf = None\n",
    "possible_keys = [\n",
    "    'Net Cash Flow',\n",
    "    'Total Cash From Operating Activities',\n",
    "    'Cash Flow From Continuing Operating Activities'\n",
    "]\n",
    "for key in possible_keys:\n",
    "    if key in yearly_cash_flow.index:\n",
    "        yearly_net_cf = yearly_cash_flow.loc[key] / 1000000000\n",
    "        break\n",
    "\n",
    "# Net Cash Flow by quarter\n",
    "quarterly_net_cf = None\n",
    "possible_keys = [\n",
    "    'Net Cash Flow',\n",
    "    'Total Cash From Operating Activities',\n",
    "    'Cash Flow From Continuing Operating Activities'\n",
    "]\n",
    "for key in possible_keys:\n",
    "    if key in quarterly_cash_flow.index:\n",
    "        quarterly_net_cf = quarterly_cash_flow.loc[key] / 1000000000\n",
    "        break\n",
    "\n",
    "# Net Cash Flow by year\n",
    "yearly_operating_cf = yearly_cash_flow.loc['Operating Cash Flow'] / 1000000000\n",
    "quarterly_operating_cf = quarterly_cash_flow.loc['Operating Cash Flow'] / 1000000000\n",
    "\n",
    "yearly_investing_cf = yearly_cash_flow.loc['Investing Cash Flow'] / 1000000000\n",
    "quarterly_investing_cf = quarterly_cash_flow.loc['Investing Cash Flow'] / 1000000000"
   ]
  },
  {
   "cell_type": "code",
   "execution_count": null,
   "id": "19cd69e7-bf73-49eb-9e5a-fac42851c308",
   "metadata": {},
   "outputs": [],
   "source": [
    "# Yearly net, operating, and investing cash flow\n",
    "plt.figure(figsize=(10, 6))\n",
    "plt.plot(\n",
    "    yearly_net_cf.index, \n",
    "    yearly_net_cf.values, \n",
    "    marker='o', \n",
    "    color='#ab3cfa', \n",
    "    linestyle='-', \n",
    "    label='Net CF'\n",
    ")\n",
    "plt.plot(\n",
    "    yearly_operating_cf.index, \n",
    "    yearly_operating_cf.values, \n",
    "    marker='o', \n",
    "    color='#fa3cb1', \n",
    "    linestyle='--', \n",
    "    label='Operating CF'\n",
    ")\n",
    "plt.plot(\n",
    "    yearly_investing_cf.index,\n",
    "    yearly_investing_cf.values,\n",
    "    marker='o',\n",
    "    color='#3cfa85',\n",
    "    linestyle='--',\n",
    "    label='Investing CF'\n",
    ")\n",
    "plt.title('Yearly Cash Flow')\n",
    "plt.xlabel('Date')\n",
    "plt.ylabel('Cash Flow (Billion $)')\n",
    "plt.legend()\n",
    "plt.xticks(rotation=45)  # Rotate x-axis labels\n",
    "plt.tight_layout()\n",
    "\n",
    "# Quarterly Net, Operating, and Investing Cash Flow\n",
    "plt.figure(figsize=(10, 6))\n",
    "plt.plot(\n",
    "    quarterly_net_cf.index, \n",
    "    quarterly_net_cf.values, \n",
    "    marker='s', \n",
    "    color='#ab3cfa', \n",
    "    linestyle='-', \n",
    "    label='Net CF'\n",
    ")\n",
    "plt.plot(\n",
    "    quarterly_operating_cf.index, \n",
    "    quarterly_operating_cf.values, \n",
    "    marker='^', \n",
    "    color='#fa3cb1', \n",
    "    linestyle='--', \n",
    "    label='Operating CF'\n",
    ")\n",
    "plt.plot(\n",
    "    quarterly_investing_cf.index, \n",
    "    quarterly_investing_cf.values, \n",
    "    marker='^', \n",
    "    color='#3cfa85', \n",
    "    linestyle='--', \n",
    "    label='Investing CF'\n",
    ")\n",
    "plt.title('Quarterly Cash Flow')\n",
    "plt.xlabel('Date')\n",
    "plt.ylabel('Value (Billions)')\n",
    "plt.legend()\n",
    "plt.xticks(rotation=45)  # Rotate x-axis labels\n",
    "plt.tight_layout()\n",
    "\n",
    "plt.show()"
   ]
  },
  {
   "cell_type": "code",
   "execution_count": null,
   "id": "611b114b-26cf-4c75-a13d-597c48235116",
   "metadata": {},
   "outputs": [],
   "source": []
  }
 ],
 "metadata": {
  "kernelspec": {
   "display_name": ".venv-investing",
   "language": "python",
   "name": ".venv-investing"
  },
  "language_info": {
   "codemirror_mode": {
    "name": "ipython",
    "version": 3
   },
   "file_extension": ".py",
   "mimetype": "text/x-python",
   "name": "python",
   "nbconvert_exporter": "python",
   "pygments_lexer": "ipython3",
   "version": "3.10.2"
  }
 },
 "nbformat": 4,
 "nbformat_minor": 5
}
