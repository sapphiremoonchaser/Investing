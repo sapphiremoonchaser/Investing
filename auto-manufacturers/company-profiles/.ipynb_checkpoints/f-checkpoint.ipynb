{
 "cells": [
  {
   "cell_type": "markdown",
   "id": "a01c4fd0-0d78-4083-943b-c9a0f16c484a",
   "metadata": {},
   "source": [
    "# F - Ford Motor Company"
   ]
  },
  {
   "cell_type": "code",
   "execution_count": 1,
   "id": "982d5b2e-29cb-42df-b153-c24987c16a22",
   "metadata": {},
   "outputs": [],
   "source": [
    "import yfinance as yf"
   ]
  },
  {
   "cell_type": "code",
   "execution_count": 15,
   "id": "5b4fad85-b1e2-4bdc-a8b7-dade8fd48cc5",
   "metadata": {},
   "outputs": [],
   "source": [
    "ticker = 'F'\n",
    "stock = yf.Ticker(ticker)\n",
    "yearly_balance_sheet = stock.balance_sheet\n",
    "quarterly_balance_sheet = stock.quarterly_balance_sheet\n",
    "yearly_cash_flow = stock.cash_flow\n",
    "quarterly_cash_flow = stock.quarterly_cash_flow\n",
    "quarterly_income_statement = stock.quarterly_income_stmt\n",
    "price = stock.info['currentPrice']\n",
    "volume = stock.info['volume']"
   ]
  },
  {
   "cell_type": "code",
   "execution_count": 18,
   "id": "bd877487-fa87-430b-b1fd-ecd6ed3e5a88",
   "metadata": {},
   "outputs": [
    {
     "name": "stdout",
     "output_type": "stream",
     "text": [
      "Name: Ford Motor Company\n",
      "Sector: Consumer Cyclical\n",
      "Industry: Auto Manufacturers\n",
      "\n",
      "Price: $10.16\n",
      "Volume: 51,264,227\n",
      "\n",
      "Next Earnings: 2025-02-05\n"
     ]
    }
   ],
   "source": [
    "print(f\"Name: {stock.info['shortName']}\")\n",
    "print(f\"Sector: {stock.info['sector']}\")\n",
    "print(f\"Industry: {stock.info['industry']}\")\n",
    "print(\"\")\n",
    "print(f\"Price: ${price}\")\n",
    "print(f\"Volume: {'{:,}'.format(volume)}\")\n",
    "print(\"\")\n",
    "print(f\"Next Earnings: {stock.calendar['Earnings Date'][0]}\")"
   ]
  },
  {
   "cell_type": "markdown",
   "id": "6d876079-8c01-4217-a45c-1de5a221cdbf",
   "metadata": {},
   "source": [
    "#### About the Company"
   ]
  },
  {
   "cell_type": "code",
   "execution_count": 19,
   "id": "0b805b96-98d8-4dbc-bdc1-8d32f80bb3d0",
   "metadata": {},
   "outputs": [
    {
     "data": {
      "text/plain": [
       "'Ford Motor Company develops, delivers, and services a range of Ford trucks, commercial cars and vans, sport utility vehicles, and Lincoln luxury vehicles worldwide. It operates through Ford Blue, Ford Model e, and Ford Pro; Ford Next; and Ford Credit segments. The company sells Ford and Lincoln vehicles, service parts, and accessories through distributors and dealers, as well as through dealerships to commercial fleet customers, daily rental car companies, and governments. It also engages in vehicle-related financing and leasing activities to and through automotive dealers. In addition, the company provides retail installment sale contracts for new and used vehicles; and direct financing leases for new vehicles to retail and commercial customers, such as leasing companies, government entities, daily rental companies, and fleet customers. Further, it offers wholesale loans to dealers to finance the purchase of vehicle inventory; and loans to dealers to finance working capital and enhance dealership facilities, purchase dealership real estate, and other dealer vehicle programs. The company was incorporated in 1903 and is based in Dearborn, Michigan.'"
      ]
     },
     "execution_count": 19,
     "metadata": {},
     "output_type": "execute_result"
    }
   ],
   "source": [
    "stock.info['longBusinessSummary']"
   ]
  },
  {
   "cell_type": "markdown",
   "id": "8229cb5f-6edc-46cd-957a-10c86d09c75f",
   "metadata": {},
   "source": [
    "##### CEO"
   ]
  },
  {
   "cell_type": "code",
   "execution_count": 23,
   "id": "6b2aad41-358b-4d0f-ba84-918beb78d928",
   "metadata": {},
   "outputs": [
    {
     "data": {
      "text/plain": [
       "'Mr. James Duncan Farley Jr.'"
      ]
     },
     "execution_count": 23,
     "metadata": {},
     "output_type": "execute_result"
    }
   ],
   "source": [
    "stock.info['companyOfficers'][1][\"name\"]"
   ]
  },
  {
   "cell_type": "markdown",
   "id": "e9b8a7c0-b78a-443b-84fa-161367b62a7f",
   "metadata": {},
   "source": [
    "##### Full-Time Employees"
   ]
  },
  {
   "cell_type": "code",
   "execution_count": 25,
   "id": "f37a1493-aab5-4d72-8a74-9551ea7ffeb2",
   "metadata": {},
   "outputs": [
    {
     "data": {
      "text/plain": [
       "'177,000'"
      ]
     },
     "execution_count": 25,
     "metadata": {},
     "output_type": "execute_result"
    }
   ],
   "source": [
    "\"{:,}\".format(stock.info['fullTimeEmployees'])"
   ]
  },
  {
   "cell_type": "code",
   "execution_count": null,
   "id": "258d5d9e-01c0-4e9c-9c0f-250f65c9dd04",
   "metadata": {},
   "outputs": [],
   "source": []
  }
 ],
 "metadata": {
  "kernelspec": {
   "display_name": ".venv-investing",
   "language": "python",
   "name": ".venv-investing"
  },
  "language_info": {
   "codemirror_mode": {
    "name": "ipython",
    "version": 3
   },
   "file_extension": ".py",
   "mimetype": "text/x-python",
   "name": "python",
   "nbconvert_exporter": "python",
   "pygments_lexer": "ipython3",
   "version": "3.10.2"
  }
 },
 "nbformat": 4,
 "nbformat_minor": 5
}
